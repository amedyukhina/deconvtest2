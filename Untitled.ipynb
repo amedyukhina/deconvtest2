{
 "cells": [
  {
   "cell_type": "code",
   "execution_count": 1,
   "id": "impressed-grove",
   "metadata": {},
   "outputs": [],
   "source": [
    "import inspect\n",
    "import os\n",
    "import importlib.util\n",
    "\n",
    "from pathlib import Path\n",
    "MODULE_EXTENSIONS = '.py'\n",
    "\n",
    "\n",
    "def __list_modules(package_name):\n",
    "    spec = importlib.util.find_spec(package_name)\n",
    "    if spec is None:\n",
    "        return set()\n",
    "\n",
    "    pathname = Path(spec.origin).parent\n",
    "    ret = set()\n",
    "    with os.scandir(pathname) as entries:\n",
    "        for entry in entries:\n",
    "            if entry.name.startswith('__'):\n",
    "                continue\n",
    "            current = '.'.join((package_name, entry.name.partition('.')[0]))\n",
    "            if entry.is_file():\n",
    "                if entry.name.endswith(MODULE_EXTENSIONS):\n",
    "                    ret.add(current)\n",
    "            elif entry.is_dir():\n",
    "                ret.add(current)\n",
    "                ret |= __list_modules(current)\n",
    "\n",
    "    return ret\n",
    "\n",
    "\n",
    "def list_package_contents(package):\n",
    "    modules = list(__list_modules(package))\n",
    "    functions = []\n",
    "    for module in modules:\n",
    "        if len(module.split('tests')) == 1:\n",
    "            m = importlib.import_module(module)\n",
    "            module_functions = inspect.getmembers(m, inspect.isfunction)\n",
    "            for function in module_functions:\n",
    "                func_info = inspect.getfullargspec(function[1])\n",
    "                functions.append(function + (func_info,))\n",
    "    return functions\n"
   ]
  },
  {
   "cell_type": "code",
   "execution_count": 63,
   "id": "dynamic-belief",
   "metadata": {},
   "outputs": [],
   "source": [
    "modules = list_package_contents('deconvtest2_modules')"
   ]
  },
  {
   "cell_type": "code",
   "execution_count": 64,
   "id": "gross-intervention",
   "metadata": {},
   "outputs": [
    {
     "data": {
      "text/plain": [
       "[('gaussian',\n",
       "  <function deconvtest2_modules.psf.psf_modules.gaussian(sigma: float, aspect: float = 1.0, scale: int = 8, **kwargs_to_ignore: dict)>,\n",
       "  FullArgSpec(args=['sigma', 'aspect', 'scale'], varargs=None, varkw='kwargs_to_ignore', defaults=(1.0, 8), kwonlyargs=[], kwonlydefaults=None, annotations={'sigma': <class 'float'>, 'aspect': <class 'float'>, 'scale': <class 'int'>, 'kwargs_to_ignore': <class 'dict'>}))]"
      ]
     },
     "execution_count": 64,
     "metadata": {},
     "output_type": "execute_result"
    }
   ],
   "source": [
    "modules"
   ]
  },
  {
   "cell_type": "code",
   "execution_count": 65,
   "id": "psychological-number",
   "metadata": {},
   "outputs": [],
   "source": [
    "import json"
   ]
  },
  {
   "cell_type": "code",
   "execution_count": 66,
   "id": "committed-mouse",
   "metadata": {},
   "outputs": [],
   "source": [
    "functions = []\n",
    "for module in modules:\n",
    "    function = dict({'name': module[1].__name__, \n",
    "                     'module': module[1].__module__,\n",
    "                    })\n",
    "    meta = module[2]._asdict()\n",
    "    for arg in meta['annotations'].keys():\n",
    "        meta['annotations'][arg] = str(meta['annotations'][arg].__name__)\n",
    "    for key in meta.keys():\n",
    "        function[key] = meta[key]\n",
    "    functions.append(function)"
   ]
  },
  {
   "cell_type": "code",
   "execution_count": 57,
   "id": "historical-affiliate",
   "metadata": {},
   "outputs": [],
   "source": [
    "functions = dict({'functions': functions})"
   ]
  },
  {
   "cell_type": "code",
   "execution_count": 67,
   "id": "occupational-triumph",
   "metadata": {},
   "outputs": [
    {
     "data": {
      "text/plain": [
       "[{'name': 'gaussian',\n",
       "  'module': 'deconvtest2_modules.psf.psf_modules',\n",
       "  'args': ['sigma', 'aspect', 'scale'],\n",
       "  'varargs': None,\n",
       "  'varkw': 'kwargs_to_ignore',\n",
       "  'defaults': (1.0, 8),\n",
       "  'kwonlyargs': [],\n",
       "  'kwonlydefaults': None,\n",
       "  'annotations': {'sigma': 'float',\n",
       "   'aspect': 'float',\n",
       "   'scale': 'int',\n",
       "   'kwargs_to_ignore': 'dict'}}]"
      ]
     },
     "execution_count": 67,
     "metadata": {},
     "output_type": "execute_result"
    }
   ],
   "source": [
    "functions"
   ]
  },
  {
   "cell_type": "code",
   "execution_count": 68,
   "id": "environmental-technique",
   "metadata": {},
   "outputs": [
    {
     "name": "stdout",
     "output_type": "stream",
     "text": [
      "[\n",
      "    {\n",
      "        \"name\": \"gaussian\",\n",
      "        \"module\": \"deconvtest2_modules.psf.psf_modules\",\n",
      "        \"args\": [\n",
      "            \"sigma\",\n",
      "            \"aspect\",\n",
      "            \"scale\"\n",
      "        ],\n",
      "        \"varargs\": null,\n",
      "        \"varkw\": \"kwargs_to_ignore\",\n",
      "        \"defaults\": [\n",
      "            1.0,\n",
      "            8\n",
      "        ],\n",
      "        \"kwonlyargs\": [],\n",
      "        \"kwonlydefaults\": null,\n",
      "        \"annotations\": {\n",
      "            \"sigma\": \"float\",\n",
      "            \"aspect\": \"float\",\n",
      "            \"scale\": \"int\",\n",
      "            \"kwargs_to_ignore\": \"dict\"\n",
      "        }\n",
      "    }\n",
      "]\n"
     ]
    }
   ],
   "source": [
    "print(json.dumps(functions, indent=4))"
   ]
  },
  {
   "cell_type": "code",
   "execution_count": 71,
   "id": "superior-graphic",
   "metadata": {},
   "outputs": [],
   "source": [
    "with open('test.json', 'w') as f:\n",
    "    json.dump(functions, f)"
   ]
  },
  {
   "cell_type": "code",
   "execution_count": null,
   "id": "attractive-chair",
   "metadata": {},
   "outputs": [],
   "source": []
  }
 ],
 "metadata": {
  "kernelspec": {
   "display_name": "Python 3",
   "language": "python",
   "name": "python3"
  },
  "language_info": {
   "codemirror_mode": {
    "name": "ipython",
    "version": 3
   },
   "file_extension": ".py",
   "mimetype": "text/x-python",
   "name": "python",
   "nbconvert_exporter": "python",
   "pygments_lexer": "ipython3",
   "version": "3.7.9"
  }
 },
 "nbformat": 4,
 "nbformat_minor": 5
}
